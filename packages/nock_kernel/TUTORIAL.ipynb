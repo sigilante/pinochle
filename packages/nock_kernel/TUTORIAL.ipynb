{
 "cells": [
  {
   "cell_type": "markdown",
   "id": "fa434220-83e1-46b1-8402-a46c9011130b",
   "metadata": {},
   "source": [
    "# The Nock 4K Kernel\n",
    "\n",
    "This Jupyter notebook demonstrates the `Nock 4K` kernel, which allows you to set a subject and evaluate formulas against it.\n",
    "\n",
    "## Installation\n",
    "\n",
    "You can install the `Nock 4K` kernel for your local Jupyter instance:\n",
    "\n",
    "```sh\n",
    "# Install packages\n",
    "pip install git+https://github.com/sigilante/pinochle.git#subdirectory=packages/pinochle\n",
    "pip install git+https://github.com/sigilante/pinochle.git#subdirectory=packages/nock_kernel\n",
    "\n",
    "# Install kernel spec\n",
    "jupyter kernelspec install --user --name nock ~/.local/share/jupyter/kernels/nock\n",
    "```\n",
    "\n",
    "## Usage\n",
    "\n",
    "Several use patterns are supported.  The simplest is to set the subject in one block:"
   ]
  },
  {
   "cell_type": "code",
   "execution_count": null,
   "id": "890d0b10-eb6b-47c4-be17-a827795b85dd",
   "metadata": {},
   "outputs": [],
   "source": [
    ":subject 42"
   ]
  },
  {
   "cell_type": "markdown",
   "id": "97a0c684-73d9-48e0-8b38-4de382d76de1",
   "metadata": {},
   "source": [
    "and then evaluate the formula against it in another:"
   ]
  },
  {
   "cell_type": "code",
   "execution_count": null,
   "id": "1dfc1e12-b21a-4ab6-b615-56caf00f0be5",
   "metadata": {},
   "outputs": [],
   "source": [
    ":formula [0 1]"
   ]
  },
  {
   "cell_type": "markdown",
   "id": "ac6583ee-8eb2-4b0b-9e99-d4e9b50fd30d",
   "metadata": {},
   "source": [
    "The `:formula` marker is optional, so you can easily evaluate multiple formulas against the subject in subsequent lines:"
   ]
  },
  {
   "cell_type": "code",
   "execution_count": null,
   "id": "671a6080-b4c2-4140-b50b-6b1ef71bf5e5",
   "metadata": {},
   "outputs": [],
   "source": [
    "[0 1]"
   ]
  },
  {
   "cell_type": "code",
   "execution_count": null,
   "id": "dd243cb6-24d8-4413-8ab6-83625f0554e3",
   "metadata": {},
   "outputs": [],
   "source": [
    "[4 4 4 0 1]"
   ]
  },
  {
   "cell_type": "code",
   "execution_count": null,
   "id": "2f344372-c770-4b48-8f61-6e6bed314cde",
   "metadata": {},
   "outputs": [],
   "source": [
    "[1 42]"
   ]
  },
  {
   "cell_type": "markdown",
   "id": "2235585f",
   "metadata": {},
   "source": [
    "You can define variables for reuse:"
   ]
  },
  {
   "cell_type": "code",
   "execution_count": null,
   "id": "94b891f7",
   "metadata": {
    "vscode": {
     "languageId": "plaintext"
    }
   },
   "outputs": [],
   "source": [
    ":increment [4 0 1]"
   ]
  },
  {
   "cell_type": "code",
   "execution_count": null,
   "id": "be124f96",
   "metadata": {
    "vscode": {
     "languageId": "plaintext"
    }
   },
   "outputs": [],
   "source": [
    "increment"
   ]
  },
  {
   "cell_type": "markdown",
   "id": "0697006d",
   "metadata": {},
   "source": [
    "List all available variables:"
   ]
  },
  {
   "cell_type": "code",
   "execution_count": null,
   "id": "21b0bcc8",
   "metadata": {
    "vscode": {
     "languageId": "plaintext"
    }
   },
   "outputs": [],
   "source": [
    ":show"
   ]
  },
  {
   "cell_type": "markdown",
   "id": "b31bd9a6-04c6-4c93-a694-f3d06262f405",
   "metadata": {},
   "source": [
    "For convenience in working with Hoon documentation, the kernel also supports `.*` dottar input:"
   ]
  },
  {
   "cell_type": "code",
   "execution_count": null,
   "id": "71673b07-e2a1-44dc-83cf-bf8d9e72cfe6",
   "metadata": {},
   "outputs": [],
   "source": [
    ".*(42 [4 4 4 0 1])"
   ]
  },
  {
   "cell_type": "markdown",
   "id": "75e59fc0-a8a0-4d5f-a46a-35835b395084",
   "metadata": {},
   "source": [
    "The `Nock 4K` kernel uses the [`pynoun`](https://github.com/urbit/tools/blob/master/pkg/pynoun/noun.py) noun library from Urbit and the [`pinochle`](https://github.com/sigilante/pinochle) opcode library."
   ]
  },
  {
   "cell_type": "code",
   "execution_count": null,
   "id": "ccbea535-d2ad-42e1-90a7-bca82212fc6a",
   "metadata": {},
   "outputs": [],
   "source": [
    ".*(42 [8 [1 0] 8 [1 6 [5 [0 7] 4 0 6] [0 6] 9 2 [0 2] [4 0 6] 0 7] 9 2 0 1])"
   ]
  },
  {
   "cell_type": "markdown",
   "id": "98200559-b8aa-41ac-b3b4-92204e8d8770",
   "metadata": {},
   "source": [
    "You can even use Hoon-style opcode constant atoms without an error:"
   ]
  },
  {
   "cell_type": "code",
   "execution_count": null,
   "id": "59cbaf5f-6ec5-49d8-ab54-b81394ac90be",
   "metadata": {},
   "outputs": [],
   "source": [
    ".*(42 [%0 1])"
   ]
  }
 ],
 "metadata": {
  "kernelspec": {
   "display_name": "Nock 4K",
   "language": "nock",
   "name": "nock"
  },
  "language_info": {
   "file_extension": ".nock",
   "mimetype": "text/plain",
   "name": "nock"
  }
 },
 "nbformat": 4,
 "nbformat_minor": 5
}
